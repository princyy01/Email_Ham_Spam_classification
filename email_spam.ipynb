{
 "cells": [
  {
   "cell_type": "code",
   "execution_count": 2,
   "id": "5ecc14d0",
   "metadata": {},
   "outputs": [],
   "source": [
    "with open('SMSSpamCollection.txt','r') as file:\n",
    "      data = file.read()  "
   ]
  },
  {
   "cell_type": "code",
   "execution_count": 3,
   "id": "4054f9b2",
   "metadata": {},
   "outputs": [
    {
     "data": {
      "text/plain": [
       "477907"
      ]
     },
     "execution_count": 3,
     "metadata": {},
     "output_type": "execute_result"
    }
   ],
   "source": [
    "len(data)   #total emails"
   ]
  },
  {
   "cell_type": "code",
   "execution_count": 4,
   "id": "df287663",
   "metadata": {},
   "outputs": [
    {
     "data": {
      "text/plain": [
       "'a'"
      ]
     },
     "execution_count": 4,
     "metadata": {},
     "output_type": "execute_result"
    }
   ],
   "source": [
    "\n",
    "data[1]    "
   ]
  },
  {
   "cell_type": "code",
   "execution_count": 5,
   "id": "83c41dac",
   "metadata": {},
   "outputs": [],
   "source": [
    "email_ls = data.split('\\n')\n"
   ]
  },
  {
   "cell_type": "code",
   "execution_count": 71,
   "id": "4d3aa96e",
   "metadata": {},
   "outputs": [
    {
     "data": {
      "text/plain": [
       "2398     ham\n",
       "1401     ham\n",
       "503      ham\n",
       "1763     ham\n",
       "87       ham\n",
       "        ... \n",
       "5539    spam\n",
       "5542    spam\n",
       "5549    spam\n",
       "5568    spam\n",
       "5569    spam\n",
       "Name: label, Length: 1747, dtype: object"
      ]
     },
     "execution_count": 71,
     "metadata": {},
     "output_type": "execute_result"
    }
   ],
   "source": [
    "y"
   ]
  },
  {
   "cell_type": "code",
   "execution_count": 72,
   "id": "d6d317f5",
   "metadata": {},
   "outputs": [],
   "source": [
    "x = []\n",
    "y = []\n",
    "for line in email_ls:\n",
    "    email_with_labels = line.split('\\t')\n",
    "    if len(email_with_labels) == 2:\n",
    "        x.append(email_with_labels[1])\n",
    "        y.append(email_with_labels[0])"
   ]
  },
  {
   "cell_type": "code",
   "execution_count": 73,
   "id": "e5413b48",
   "metadata": {},
   "outputs": [
    {
     "data": {
      "text/plain": [
       "(5574, 5574)"
      ]
     },
     "execution_count": 73,
     "metadata": {},
     "output_type": "execute_result"
    }
   ],
   "source": [
    "len(x), len(y)"
   ]
  },
  {
   "cell_type": "code",
   "execution_count": 74,
   "id": "2d407e0d",
   "metadata": {},
   "outputs": [
    {
     "data": {
      "text/plain": [
       "\"I'm gonna be home soon and i don't want to talk about this stuff anymore tonight, k? I've cried enough today.\""
      ]
     },
     "execution_count": 74,
     "metadata": {},
     "output_type": "execute_result"
    }
   ],
   "source": [
    "x[10]"
   ]
  },
  {
   "cell_type": "code",
   "execution_count": 75,
   "id": "a4f51554",
   "metadata": {},
   "outputs": [
    {
     "data": {
      "text/plain": [
       "'ham'"
      ]
     },
     "execution_count": 75,
     "metadata": {},
     "output_type": "execute_result"
    }
   ],
   "source": [
    "y[10]"
   ]
  },
  {
   "cell_type": "code",
   "execution_count": 76,
   "id": "be663f29",
   "metadata": {},
   "outputs": [],
   "source": [
    "import re  #model trainer"
   ]
  },
  {
   "cell_type": "code",
   "execution_count": 80,
   "id": "b583a990",
   "metadata": {},
   "outputs": [],
   "source": [
    "for i in range(len(x)):\n",
    "    x[i] = re.sub('[^a-zA-Z ]',' ',x[i]).lower()"
   ]
  },
  {
   "cell_type": "code",
   "execution_count": 81,
   "id": "c34cfe21",
   "metadata": {},
   "outputs": [
    {
     "data": {
      "text/plain": [
       "'i   m going to try for   months ha ha only joking'"
      ]
     },
     "execution_count": 81,
     "metadata": {},
     "output_type": "execute_result"
    }
   ],
   "source": [
    "x[21]"
   ]
  },
  {
   "cell_type": "code",
   "execution_count": 82,
   "id": "78aad50c",
   "metadata": {},
   "outputs": [
    {
     "data": {
      "text/html": [
       "<div>\n",
       "<style scoped>\n",
       "    .dataframe tbody tr th:only-of-type {\n",
       "        vertical-align: middle;\n",
       "    }\n",
       "\n",
       "    .dataframe tbody tr th {\n",
       "        vertical-align: top;\n",
       "    }\n",
       "\n",
       "    .dataframe thead th {\n",
       "        text-align: right;\n",
       "    }\n",
       "</style>\n",
       "<table border=\"1\" class=\"dataframe\">\n",
       "  <thead>\n",
       "    <tr style=\"text-align: right;\">\n",
       "      <th></th>\n",
       "      <th>email_message</th>\n",
       "      <th>label</th>\n",
       "    </tr>\n",
       "  </thead>\n",
       "  <tbody>\n",
       "    <tr>\n",
       "      <th>0</th>\n",
       "      <td>go until jurong point  crazy   available only ...</td>\n",
       "      <td>ham</td>\n",
       "    </tr>\n",
       "    <tr>\n",
       "      <th>1</th>\n",
       "      <td>ok lar    joking wif u oni</td>\n",
       "      <td>ham</td>\n",
       "    </tr>\n",
       "    <tr>\n",
       "      <th>2</th>\n",
       "      <td>free entry in   a wkly comp to win fa cup fina...</td>\n",
       "      <td>spam</td>\n",
       "    </tr>\n",
       "    <tr>\n",
       "      <th>3</th>\n",
       "      <td>u dun say so early hor    u c already then say</td>\n",
       "      <td>ham</td>\n",
       "    </tr>\n",
       "    <tr>\n",
       "      <th>4</th>\n",
       "      <td>nah i don t think he goes to usf  he lives aro...</td>\n",
       "      <td>ham</td>\n",
       "    </tr>\n",
       "  </tbody>\n",
       "</table>\n",
       "</div>"
      ],
      "text/plain": [
       "                                       email_message label\n",
       "0  go until jurong point  crazy   available only ...   ham\n",
       "1                      ok lar    joking wif u oni      ham\n",
       "2  free entry in   a wkly comp to win fa cup fina...  spam\n",
       "3  u dun say so early hor    u c already then say      ham\n",
       "4  nah i don t think he goes to usf  he lives aro...   ham"
      ]
     },
     "execution_count": 82,
     "metadata": {},
     "output_type": "execute_result"
    }
   ],
   "source": [
    "import pandas as pd \n",
    "dt = {\"email_message\":x,\"label\":y}\n",
    "df = pd.DataFrame(dt)\n",
    "df.head()"
   ]
  },
  {
   "cell_type": "code",
   "execution_count": 83,
   "id": "9ccbb359",
   "metadata": {},
   "outputs": [
    {
     "data": {
      "text/plain": [
       "ham     4827\n",
       "spam     747\n",
       "Name: label, dtype: int64"
      ]
     },
     "execution_count": 83,
     "metadata": {},
     "output_type": "execute_result"
    }
   ],
   "source": [
    "df['label'].value_counts()    "
   ]
  },
  {
   "cell_type": "code",
   "execution_count": 84,
   "id": "1e070263",
   "metadata": {},
   "outputs": [],
   "source": [
    "ham = df[df['label']=='ham']\n",
    "spam = df[df['label']=='spam']"
   ]
  },
  {
   "cell_type": "code",
   "execution_count": 85,
   "id": "475218f1",
   "metadata": {},
   "outputs": [
    {
     "data": {
      "text/plain": [
       "((4827, 2), (747, 2))"
      ]
     },
     "execution_count": 85,
     "metadata": {},
     "output_type": "execute_result"
    }
   ],
   "source": [
    "ham.shape  ,  spam.shape"
   ]
  },
  {
   "cell_type": "code",
   "execution_count": 86,
   "id": "5ae69003",
   "metadata": {},
   "outputs": [
    {
     "data": {
      "text/plain": [
       "(1000, 2)"
      ]
     },
     "execution_count": 86,
     "metadata": {},
     "output_type": "execute_result"
    }
   ],
   "source": [
    "ham.sample(1000).shape"
   ]
  },
  {
   "cell_type": "code",
   "execution_count": 87,
   "id": "b9df837b",
   "metadata": {},
   "outputs": [
    {
     "name": "stdout",
     "output_type": "stream",
     "text": [
      "Requirement already satisfied: imblearn in c:\\users\\kiit\\anaconda3\\lib\\site-packages (0.0)\n",
      "Requirement already satisfied: imbalanced-learn in c:\\users\\kiit\\anaconda3\\lib\\site-packages (from imblearn) (0.12.3)\n",
      "Requirement already satisfied: joblib>=1.1.1 in c:\\users\\kiit\\anaconda3\\lib\\site-packages (from imbalanced-learn->imblearn) (1.4.2)\n",
      "Requirement already satisfied: threadpoolctl>=2.0.0 in c:\\users\\kiit\\anaconda3\\lib\\site-packages (from imbalanced-learn->imblearn) (2.2.0)\n",
      "Requirement already satisfied: numpy>=1.17.3 in c:\\users\\kiit\\anaconda3\\lib\\site-packages (from imbalanced-learn->imblearn) (1.21.5)\n",
      "Requirement already satisfied: scikit-learn>=1.0.2 in c:\\users\\kiit\\anaconda3\\lib\\site-packages (from imbalanced-learn->imblearn) (1.0.2)\n",
      "Requirement already satisfied: scipy>=1.5.0 in c:\\users\\kiit\\anaconda3\\lib\\site-packages (from imbalanced-learn->imblearn) (1.9.1)\n"
     ]
    }
   ],
   "source": [
    "!pip install imblearn"
   ]
  },
  {
   "cell_type": "code",
   "execution_count": 88,
   "id": "8d9ae070",
   "metadata": {},
   "outputs": [],
   "source": [
    "from imblearn.over_sampling import SMOTE"
   ]
  },
  {
   "cell_type": "code",
   "execution_count": 89,
   "id": "f3d8542f",
   "metadata": {},
   "outputs": [],
   "source": [
    "smote = SMOTE()"
   ]
  },
  {
   "cell_type": "code",
   "execution_count": 92,
   "id": "45f2316d",
   "metadata": {},
   "outputs": [],
   "source": [
    "ham = ham.sample(1000)    #randomly selecting 1000 dataframes "
   ]
  },
  {
   "cell_type": "code",
   "execution_count": 93,
   "id": "1740a5e6",
   "metadata": {},
   "outputs": [],
   "source": [
    "balance_df = pd.concat([ham,spam])"
   ]
  },
  {
   "cell_type": "code",
   "execution_count": 94,
   "id": "90d21046",
   "metadata": {},
   "outputs": [
    {
     "data": {
      "text/plain": [
       "ham     1000\n",
       "spam     747\n",
       "Name: label, dtype: int64"
      ]
     },
     "execution_count": 94,
     "metadata": {},
     "output_type": "execute_result"
    }
   ],
   "source": [
    "balance_df['label'].value_counts()"
   ]
  },
  {
   "cell_type": "code",
   "execution_count": 95,
   "id": "539fb403",
   "metadata": {},
   "outputs": [],
   "source": [
    "x = balance_df['email_message']\n",
    "y = balance_df['label']"
   ]
  },
  {
   "cell_type": "code",
   "execution_count": 96,
   "id": "bd0d3160",
   "metadata": {},
   "outputs": [
    {
     "data": {
      "text/plain": [
       "numpy.ndarray"
      ]
     },
     "execution_count": 96,
     "metadata": {},
     "output_type": "execute_result"
    }
   ],
   "source": [
    "x = x.values\n",
    "type(x)"
   ]
  },
  {
   "cell_type": "code",
   "execution_count": 97,
   "id": "d5f5c64e",
   "metadata": {},
   "outputs": [],
   "source": [
    "from sklearn.feature_extraction.text import CountVectorizer, TfidfVectorizer\n",
    "bow = CountVectorizer(max_features=1700, stop_words='english')  "
   ]
  },
  {
   "cell_type": "code",
   "execution_count": 99,
   "id": "d818034d",
   "metadata": {},
   "outputs": [],
   "source": [
    "x = bow.fit_transform(x).toarray()"
   ]
  },
  {
   "cell_type": "code",
   "execution_count": 101,
   "id": "5438b45a",
   "metadata": {},
   "outputs": [
    {
     "data": {
      "text/plain": [
       "(1747, 1700)"
      ]
     },
     "execution_count": 101,
     "metadata": {},
     "output_type": "execute_result"
    }
   ],
   "source": [
    "x.shape"
   ]
  },
  {
   "cell_type": "code",
   "execution_count": 104,
   "id": "b2a315a8",
   "metadata": {},
   "outputs": [
    {
     "data": {
      "text/plain": [
       "array([[0, 0, 0, ..., 0, 0, 0],\n",
       "       [0, 0, 0, ..., 0, 0, 0],\n",
       "       [0, 0, 0, ..., 0, 0, 0],\n",
       "       ...,\n",
       "       [0, 0, 0, ..., 0, 0, 0],\n",
       "       [0, 0, 0, ..., 0, 0, 0],\n",
       "       [0, 0, 0, ..., 0, 0, 0]], dtype=int64)"
      ]
     },
     "execution_count": 104,
     "metadata": {},
     "output_type": "execute_result"
    }
   ],
   "source": [
    "x"
   ]
  },
  {
   "cell_type": "code",
   "execution_count": 107,
   "id": "17453120",
   "metadata": {},
   "outputs": [],
   "source": [
    "column_name = bow.get_feature_names_out()"
   ]
  },
  {
   "cell_type": "code",
   "execution_count": 108,
   "id": "3878c551",
   "metadata": {},
   "outputs": [],
   "source": [
    "testing = pd.DataFrame(x, columns=column_name)"
   ]
  },
  {
   "cell_type": "code",
   "execution_count": 109,
   "id": "77e3c2f6",
   "metadata": {},
   "outputs": [
    {
     "data": {
      "text/plain": [
       "email_message    ok lar    joking wif u oni   \n",
       "label                                      ham\n",
       "Name: 1, dtype: object"
      ]
     },
     "execution_count": 109,
     "metadata": {},
     "output_type": "execute_result"
    }
   ],
   "source": [
    "df.iloc[1]"
   ]
  },
  {
   "cell_type": "code",
   "execution_count": 110,
   "id": "c44c2815",
   "metadata": {},
   "outputs": [
    {
     "data": {
      "text/plain": [
       "2595     ham\n",
       "2741     ham\n",
       "3106     ham\n",
       "4737     ham\n",
       "69       ham\n",
       "        ... \n",
       "5539    spam\n",
       "5542    spam\n",
       "5549    spam\n",
       "5568    spam\n",
       "5569    spam\n",
       "Name: label, Length: 1747, dtype: object"
      ]
     },
     "execution_count": 110,
     "metadata": {},
     "output_type": "execute_result"
    }
   ],
   "source": [
    "y"
   ]
  },
  {
   "cell_type": "code",
   "execution_count": 111,
   "id": "18f3a24a",
   "metadata": {},
   "outputs": [],
   "source": [
    "\n",
    "dt = {'ham':0,'spam':1}\n",
    "y=y.map(dt)"
   ]
  },
  {
   "cell_type": "code",
   "execution_count": 112,
   "id": "7fe6cd99",
   "metadata": {},
   "outputs": [
    {
     "data": {
      "text/plain": [
       "{'ham': 0, 'spam': 1}"
      ]
     },
     "execution_count": 112,
     "metadata": {},
     "output_type": "execute_result"
    }
   ],
   "source": [
    "dt"
   ]
  },
  {
   "cell_type": "code",
   "execution_count": 113,
   "id": "ff01b00d",
   "metadata": {},
   "outputs": [],
   "source": [
    "import numpy as np"
   ]
  },
  {
   "cell_type": "code",
   "execution_count": 114,
   "id": "4e304da8",
   "metadata": {},
   "outputs": [],
   "source": [
    "y = np.array(y)"
   ]
  },
  {
   "cell_type": "code",
   "execution_count": 115,
   "id": "b2a9a92f",
   "metadata": {},
   "outputs": [
    {
     "data": {
      "text/plain": [
       "array([0, 0, 0, ..., 1, 1, 1], dtype=int64)"
      ]
     },
     "execution_count": 115,
     "metadata": {},
     "output_type": "execute_result"
    }
   ],
   "source": [
    "y"
   ]
  },
  {
   "cell_type": "code",
   "execution_count": 116,
   "id": "c3d01b5f",
   "metadata": {},
   "outputs": [
    {
     "data": {
      "text/plain": [
       "((1747, 1700), (1747,))"
      ]
     },
     "execution_count": 116,
     "metadata": {},
     "output_type": "execute_result"
    }
   ],
   "source": [
    "x.shape, y.shape"
   ]
  },
  {
   "cell_type": "code",
   "execution_count": 117,
   "id": "33926ad4",
   "metadata": {},
   "outputs": [],
   "source": [
    "from sklearn.model_selection import train_test_split"
   ]
  },
  {
   "cell_type": "code",
   "execution_count": 118,
   "id": "26468e32",
   "metadata": {},
   "outputs": [],
   "source": [
    "x_train, x_test, y_train, y_test = train_test_split(x,y,test_size = 0.15)"
   ]
  },
  {
   "cell_type": "code",
   "execution_count": 119,
   "id": "1febab53",
   "metadata": {},
   "outputs": [],
   "source": [
    "from sklearn.naive_bayes import MultinomialNB, BernoulliNB"
   ]
  },
  {
   "cell_type": "code",
   "execution_count": 123,
   "id": "f5c88e73",
   "metadata": {},
   "outputs": [
    {
     "name": "stdout",
     "output_type": "stream",
     "text": [
      "Training score MNB:  0.9743935309973046\n",
      "Testing score MNB:  0.9581749049429658\n",
      "\n",
      "Training score BNB:  0.9663072776280324\n",
      "Testing score BNB:  0.9543726235741445\n"
     ]
    }
   ],
   "source": [
    "mb = MultinomialNB()\n",
    "bnb = BernoulliNB()\n",
    "\n",
    "mb.fit(x_train, y_train)\n",
    "bnb.fit(x_train,y_train)\n",
    "\n",
    "print(\"Training score MNB: \",mb.score(x_train,y_train))\n",
    "print(\"Testing score MNB: \",mb.score(x_test,y_test))\n",
    "print()\n",
    "print(\"Training score BNB: \",bnb.score(x_train,y_train))\n",
    "print(\"Testing score BNB: \",bnb.score(x_test,y_test))"
   ]
  },
  {
   "cell_type": "code",
   "execution_count": 124,
   "id": "22956630",
   "metadata": {},
   "outputs": [],
   "source": [
    "import joblib"
   ]
  },
  {
   "cell_type": "code",
   "execution_count": 125,
   "id": "9d220ba6",
   "metadata": {},
   "outputs": [
    {
     "data": {
      "text/plain": [
       "['countvectorizer.lb']"
      ]
     },
     "execution_count": 125,
     "metadata": {},
     "output_type": "execute_result"
    }
   ],
   "source": [
    "joblib.dump(bnb, 'BNB_Model.lb')\n",
    "joblib.dump(bow, 'countvectorizer.lb')"
   ]
  },
  {
   "cell_type": "code",
   "execution_count": 127,
   "id": "1a8ea67f",
   "metadata": {},
   "outputs": [],
   "source": [
    "prediction = bnb.predict(x_test)"
   ]
  },
  {
   "cell_type": "code",
   "execution_count": 128,
   "id": "1813163a",
   "metadata": {},
   "outputs": [
    {
     "data": {
      "text/plain": [
       "array([0, 1, 1, 0, 0, 1, 0, 0, 1, 1], dtype=int64)"
      ]
     },
     "execution_count": 128,
     "metadata": {},
     "output_type": "execute_result"
    }
   ],
   "source": [
    "prediction[:10]"
   ]
  },
  {
   "cell_type": "code",
   "execution_count": 130,
   "id": "5ec4a4ec",
   "metadata": {},
   "outputs": [
    {
     "data": {
      "text/plain": [
       "array([0, 1, 1, 0, 0, 1, 0, 0, 1, 1], dtype=int64)"
      ]
     },
     "execution_count": 130,
     "metadata": {},
     "output_type": "execute_result"
    }
   ],
   "source": [
    "y_test[:10]"
   ]
  },
  {
   "cell_type": "code",
   "execution_count": null,
   "id": "8670c3ba",
   "metadata": {},
   "outputs": [],
   "source": []
  }
 ],
 "metadata": {
  "kernelspec": {
   "display_name": "Python 3 (ipykernel)",
   "language": "python",
   "name": "python3"
  },
  "language_info": {
   "codemirror_mode": {
    "name": "ipython",
    "version": 3
   },
   "file_extension": ".py",
   "mimetype": "text/x-python",
   "name": "python",
   "nbconvert_exporter": "python",
   "pygments_lexer": "ipython3",
   "version": "3.9.13"
  }
 },
 "nbformat": 4,
 "nbformat_minor": 5
}
